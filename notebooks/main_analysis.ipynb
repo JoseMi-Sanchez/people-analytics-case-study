{
 "cells": [
  {
   "cell_type": "markdown",
   "metadata": {},
   "source": [
    "# People Analytics Case Study"
   ]
  },
  {
   "cell_type": "markdown",
   "metadata": {},
   "source": [
    "## Libraries"
   ]
  },
  {
   "cell_type": "code",
   "execution_count": 1,
   "metadata": {},
   "outputs": [],
   "source": [
    "# import libraries\n",
    "import pymysql\n",
    "from sqlalchemy import create_engine\n",
    "import getpass"
   ]
  },
  {
   "cell_type": "markdown",
   "metadata": {},
   "source": [
    "## Exporting Data for Tableau Visualization"
   ]
  },
  {
   "cell_type": "code",
   "execution_count": 3,
   "metadata": {},
   "outputs": [],
   "source": [
    "# Connection parameters\n",
    "bd = \"hr_data\"\n",
    "password = \"password\"\n",
    "connection_string = 'mysql+pymysql://root:' + password + '@localhost/' + bd\n",
    "\n",
    "# Create the connection engine\n",
    "engine = create_engine(connection_string)"
   ]
  },
  {
   "cell_type": "code",
   "execution_count": null,
   "metadata": {},
   "outputs": [],
   "source": [
    "# SQL query to execute\n",
    "consulta = \"SELECT * FROM hr_data.employees\"\n",
    "\n",
    "# Read the SQL query into a DataFrame\n",
    "df_sql = pd.read_sql(consulta, con=engine)\n",
    "\n",
    "# Display the first rows of the DataFrame\n",
    "df_sql"
   ]
  }
 ],
 "metadata": {
  "kernelspec": {
   "display_name": "final_project",
   "language": "python",
   "name": "python3"
  },
  "language_info": {
   "codemirror_mode": {
    "name": "ipython",
    "version": 3
   },
   "file_extension": ".py",
   "mimetype": "text/x-python",
   "name": "python",
   "nbconvert_exporter": "python",
   "pygments_lexer": "ipython3",
   "version": "3.11.10"
  }
 },
 "nbformat": 4,
 "nbformat_minor": 2
}
